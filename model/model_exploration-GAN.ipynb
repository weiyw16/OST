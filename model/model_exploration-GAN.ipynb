{
 "cells": [
  {
   "cell_type": "code",
   "execution_count": 1,
   "metadata": {},
   "outputs": [
    {
     "name": "stderr",
     "output_type": "stream",
     "text": [
      "Using TensorFlow backend.\n"
     ]
    }
   ],
   "source": [
    "## network workflow\n",
    "import os\n",
    "import keras\n",
    "from keras.models import Model\n",
    "# from keras.layers.convolutional import Convolution2D\n",
    "# from keras.layers.convolutional import Conv3d\n",
    "# from keras.layers.convolutional import Conv3D\n",
    "# from keras.layers import Conv2D\n",
    "from keras.layers.advanced_activations import LeakyReLU\n",
    "from keras.layers.convolutional import UpSampling2D, Conv2D,Conv2DTranspose\n",
    "from keras.layers.normalization import BatchNormalization\n",
    "from keras.layers import (\n",
    "    Input,\n",
    "    Activation,\n",
    "    merge,\n",
    "    Dense,\n",
    "    Lambda,\n",
    "    Reshape,\n",
    "    Dropout,\n",
    "    Concatenate\n",
    ")\n",
    "os.environ[\"CUDA_VISIBLE_DEVICES\"]=\"2\""
   ]
  },
  {
   "cell_type": "code",
   "execution_count": 13,
   "metadata": {},
   "outputs": [],
   "source": [
    "class vspGAN():\n",
    "    def __init__(self):\n",
    "        self.gf = 64\n",
    "        self.df = 64\n",
    "        self.nt = 2001\n",
    "        self.nr = 467\n",
    "        self.nph = 3\n",
    "        self.nop = 1\n",
    "        \n",
    "#         self.disc_patch = (int(self.nt / 2**4), int(self.nr / 2**4), 1)\n",
    "        self.disc_patch = (int(self.nt / 2**4), int(self.nr / 2**4), 1)\n",
    "        optimizer = Adam(0.0002, 0.5)\n",
    "        \n",
    "        # Build and compile the discriminator\n",
    "        self.discriminator = self.build_discriminator()\n",
    "        self.discriminator.compile(loss='mse',\n",
    "            optimizer=optimizer,\n",
    "            metrics=['accuracy'])\n",
    "        \n",
    "        # Build the generator\n",
    "        self.generator = self.build_generator()\n",
    "        \n",
    "        \n",
    "    def build_generator(self):  \n",
    "        '''\n",
    "        U-net generator\n",
    "        '''\n",
    "        def cutLayer(xx, target):\n",
    "            return xx[:, 0:int(target.shape[1]),0:int(target.shape[2]),0:int(target.shape[3])]\n",
    "    \n",
    "        def conv2d(layer_input, filters, f_size=(4,4), s_size=(2,2), bn=True):\n",
    "            \"\"\"Layers used during downsampling\"\"\"\n",
    "            xx = Conv2D(filters=filters, kernel_size=f_size, strides=s_size, padding='same', \n",
    "                        data_format='channels_last', dilation_rate=(1, 1), activation=None, \n",
    "                        use_bias=True, kernel_initializer='glorot_uniform',bias_initializer='zeros', \n",
    "                        kernel_regularizer=None, bias_regularizer=None, activity_regularizer=None, \n",
    "                        kernel_constraint=None, bias_constraint=None)(layer_input)\n",
    "            if bn:\n",
    "                xx = BatchNormalization(axis=-1, momentum=0.99, epsilon=0.001, center=True, scale=True, \n",
    "                           beta_initializer='zeros', gamma_initializer='ones', moving_mean_initializer='zeros', \n",
    "                           moving_variance_initializer='ones', beta_regularizer=None, gamma_regularizer=None, \n",
    "                           beta_constraint=None, gamma_constraint=None)(xx)\n",
    "            return xx\n",
    "        \n",
    "\n",
    "        def deconv2d(layer_input, skip_input, filters, f_size=(4,4),s_size=(2,2), dropout_rate=0, if_skip=True,\n",
    "                     if_last=False):\n",
    "            \"\"\"Layers used during upsampling\"\"\"\n",
    "            xx = Conv2DTranspose(filters=filters, kernel_size=f_size, strides=s_size, padding='same', output_padding=None, \n",
    "                         data_format='channels_last', dilation_rate=(1, 1), activation=None, use_bias=True, \n",
    "                         kernel_initializer='glorot_uniform', bias_initializer='zeros', \n",
    "                         kernel_regularizer=None, bias_regularizer=None, activity_regularizer=None,\n",
    "                         kernel_constraint=None, bias_constraint=None)(layer_input)\n",
    "            if if_last:\n",
    "                xx = Conv2DTranspose(filters=filters, kernel_size=f_size, strides=s_size, padding='same', output_padding=None, \n",
    "                             data_format='channels_last', dilation_rate=(1, 1), activation='tanh', use_bias=True, \n",
    "                             kernel_initializer='glorot_uniform', bias_initializer='zeros', \n",
    "                             kernel_regularizer=None, bias_regularizer=None, activity_regularizer=None,\n",
    "                             kernel_constraint=None, bias_constraint=None)(layer_input)\n",
    "                \n",
    "            if if_skip and xx.shape != skip_input.shape:\n",
    "                xx = Lambda(cutLayer, arguments={'target':(skip_input)})(xx)#(xx,skip_input)\n",
    "                \n",
    "            if dropout_rate:   \n",
    "                xx = Dropout(dropout_rate)(xx)\n",
    "                \n",
    "            if not if_last:\n",
    "                xx = BatchNormalization(axis=-1, momentum=0.99, epsilon=0.001, center=True, scale=True, \n",
    "                           beta_initializer='zeros', gamma_initializer='ones', moving_mean_initializer='zeros', \n",
    "                           moving_variance_initializer='ones', beta_regularizer=None, gamma_regularizer=None, \n",
    "                           beta_constraint=None, gamma_constraint=None)(xx)\n",
    "                xx = Concatenate()([xx, skip_input])\n",
    "            return xx\n",
    "\n",
    "        # Image input\n",
    "        d0 = Input( shape=( self.nt, self.nr, self.nph) )#shape=self.img_shape)\n",
    "\n",
    "        # Downsampling\n",
    "        d1 = conv2d(d0, self.gf, bn=False)\n",
    "        d2 = conv2d(d1, self.gf*8)\n",
    "        d3 = conv2d(d2, self.gf*16)\n",
    "        d4 = conv2d(d2, self.gf*16)\n",
    "\n",
    "        # Upsampling\n",
    "    \n",
    "        u1 = deconv2d(d4, d3, self.gf*16)\n",
    "        u2 = deconv2d(u1, d2, self.gf*16)\n",
    "        u3 = deconv2d(u2, d1, self.gf*8)\n",
    "        u4 = deconv2d(u3, d0, self.nop, if_last=True)\n",
    "\n",
    "        return Model(inputs = d0, outputs = u4)\n",
    "    \n",
    "    \n",
    "    def build_discriminator(self):  \n",
    "        '''\n",
    "        U-net discriminator\n",
    "        ''' \n",
    "        def d_layer(layer_input, filters, f_size=(4,4),s_size=(2,2), bn=True):\n",
    "            \n",
    "            d = Conv2D(filters, kernel_size=f_size, strides=s_size, padding='same')(layer_input)\n",
    "            d = LeakyReLU(alpha=0.2)(d)\n",
    "            if bn:\n",
    "                d = BatchNormalization(momentum=0.8)(d)\n",
    "            return d\n",
    "        data_B = Input( shape=( self.nt, self.nr, self.nph) )\n",
    "        data_A = Input( shape=( self.nt, self.nr, self.nop) )\n",
    "        \n",
    "        # Concatenate image and conditioning image by channels to produce input\n",
    "        combined_data = Concatenate(axis=-1)([data_B, data_A])\n",
    "\n",
    "        d1 = d_layer(combined_data, self.df, bn=False)\n",
    "        d2 = d_layer(d1, self.df*2)\n",
    "        d3 = d_layer(d2, self.df*4)\n",
    "        d4 = d_layer(d3, self.df*8)\n",
    "\n",
    "        validity = Conv2D(1, kernel_size=4, strides=1, padding='same')(d4)\n",
    "\n",
    "        return Model([data_B, data_A], validity)\n",
    "\n",
    "            "
   ]
  },
  {
   "cell_type": "code",
   "execution_count": null,
   "metadata": {},
   "outputs": [],
   "source": [
    "epochs = 1; batch_size = 2; sample_interval = 2;"
   ]
  },
  {
   "cell_type": "code",
   "execution_count": 14,
   "metadata": {},
   "outputs": [],
   "source": [
    "# opt = parameters().parse()\n",
    "model = vspGAN()\n",
    "G = model.build_generator()\n",
    "D = model.build_discriminator()\n",
    "\n",
    "my_data_loader = Dataloader(opt.data_path, opt.nt, opt.nr, opt.nph)"
   ]
  },
  {
   "cell_type": "code",
   "execution_count": 15,
   "metadata": {},
   "outputs": [],
   "source": []
  },
  {
   "cell_type": "code",
   "execution_count": 17,
   "metadata": {},
   "outputs": [],
   "source": [
    "# G.summary()"
   ]
  },
  {
   "cell_type": "code",
   "execution_count": 18,
   "metadata": {},
   "outputs": [],
   "source": [
    "# D.summary()"
   ]
  },
  {
   "cell_type": "code",
   "execution_count": null,
   "metadata": {},
   "outputs": [],
   "source": [
    "valid = np.ones( )\n",
    "fake = \n",
    "start_time = datetime.datetime.now()\n",
    "\n",
    "for epoch in range(epochs):\n",
    "    for batch_i, (data_B, data_A) in enumerate(my_data_loader.load_batch(batch_size)):\n",
    "        # ---------------------\n",
    "        #  Train Discriminator\n",
    "        # ---------------------\n",
    "\n",
    "        # Condition on B and generate a translated version\n",
    "        fake_A = G.predict(data_B)\n",
    "        \n",
    "        # Train the discriminators (original images = real / generated = Fake)\n",
    "        d_loss_real = D.train_on_batch([data_B, data_A], valid)\n",
    "        d_loss_fake = D.train_on_batch([fake_B, data_A], fake)\n",
    "        d_loss = 0.5 * np.add(d_loss_real, d_loss_fake)\n",
    "        \n",
    "        # -----------------\n",
    "        #  Train Generator\n",
    "        # -----------------\n",
    "\n",
    "        # Train the generators\n",
    "        g_loss = self.combined.train_on_batch([imgs_A, imgs_B], [valid, imgs_A])\n",
    "\n",
    "        elapsed_time = datetime.datetime.now() - start_time\n",
    "        # Plot the progress\n",
    "        print (\"[Epoch %d/%d] [Batch %d/%d] [D loss: %f, acc: %3d%%] [G loss: %f] time: %s\" % \n",
    "               (epoch, epochs, batch_i, self.data_loader.n_batches,\n",
    "                d_loss[0], 100*d_loss[1], g_loss[0], elapsed_time))\n",
    "\n",
    "        # If at save interval => save generated image samples\n",
    "        if batch_i % sample_interval == 0:\n",
    "            self.sample_images(epoch, batch_i)"
   ]
  }
 ],
 "metadata": {
  "hide_input": false,
  "kernelspec": {
   "display_name": "Python (tf-keras)",
   "language": "python",
   "name": "tf-keras"
  },
  "language_info": {
   "codemirror_mode": {
    "name": "ipython",
    "version": 3
   },
   "file_extension": ".py",
   "mimetype": "text/x-python",
   "name": "python",
   "nbconvert_exporter": "python",
   "pygments_lexer": "ipython3",
   "version": "3.6.8"
  },
  "nbTranslate": {
   "displayLangs": [
    "*"
   ],
   "hotkey": "alt-t",
   "langInMainMenu": true,
   "sourceLang": "en",
   "targetLang": "fr",
   "useGoogleTranslate": true
  },
  "toc": {
   "base_numbering": 1,
   "nav_menu": {},
   "number_sections": true,
   "sideBar": true,
   "skip_h1_title": false,
   "title_cell": "Table of Contents",
   "title_sidebar": "Contents",
   "toc_cell": false,
   "toc_position": {},
   "toc_section_display": true,
   "toc_window_display": false
  },
  "varInspector": {
   "cols": {
    "lenName": 16,
    "lenType": 16,
    "lenVar": 40
   },
   "kernels_config": {
    "python": {
     "delete_cmd_postfix": "",
     "delete_cmd_prefix": "del ",
     "library": "var_list.py",
     "varRefreshCmd": "print(var_dic_list())"
    },
    "r": {
     "delete_cmd_postfix": ") ",
     "delete_cmd_prefix": "rm(",
     "library": "var_list.r",
     "varRefreshCmd": "cat(var_dic_list()) "
    }
   },
   "types_to_exclude": [
    "module",
    "function",
    "builtin_function_or_method",
    "instance",
    "_Feature"
   ],
   "window_display": false
  }
 },
 "nbformat": 4,
 "nbformat_minor": 2
}
