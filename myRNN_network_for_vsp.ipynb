{
 "cells": [
  {
   "cell_type": "markdown",
   "metadata": {},
   "source": [
    " # using STResNet"
   ]
  },
  {
   "cell_type": "code",
   "execution_count": 6,
   "metadata": {
    "code_folding": [
     0
    ],
    "run_control": {
     "marked": true
    }
   },
   "outputs": [],
   "source": [
    "## headings\n",
    "\"\"\"\n",
    "made by weiyw @ 2019-03-08\n",
    "made to use the deep Spatio-temporal Residual Network\n",
    "\"\"\"\n",
    "# from __future__ import print_function\n",
    "# from preprocessing import *\n",
    "# import numpy as np\n",
    "# np.random.seed(2333)  # for reproducibility\n",
    "\n",
    "\n",
    "import os\n",
    "import time\n",
    "import struct\n",
    "import numpy as np\n",
    "import h5py\n",
    "\n",
    "from keras.optimizers import Adam\n",
    "from keras.callbacks import EarlyStopping, ModelCheckpoint\n",
    "\n",
    "from STResNet import stresnet\n",
    "import metrics as metrics\n",
    "\n",
    "from PIL import Image\n",
    "import matplotlib.pyplot as plt"
   ]
  },
  {
   "cell_type": "code",
   "execution_count": 15,
   "metadata": {
    "code_folding": [
     0
    ]
   },
   "outputs": [],
   "source": [
    "def get_min_nonzero_value(data_in, init_min = 1):\n",
    "    min_value = init_min\n",
    "    for bb in data_in:\n",
    "        for aa in bb:\n",
    "            if abs(aa) < min_value and aa != 0:\n",
    "                min_value = abs(aa)\n",
    "    return min_value"
   ]
  },
  {
   "cell_type": "code",
   "execution_count": null,
   "metadata": {},
   "outputs": [],
   "source": [
    "def prepare_data(filepath, all_times, data_step, data_stride):\n",
    "    X = []\n",
    "    y = []\n",
    "    for i in range(all_times):\n",
    "        count_X = range(i*data_stride, i*data_stride + data_step)\n",
    "        for j in count_X:\n",
    "            img = Image.open(filepath + \"/\" + str(j+1)+\".png\")\n",
    "            data = np.resize(np.asarray(img), (330, 580, 4))#np.asarray(img)\n",
    "            X.append(data[:,:,0])\n",
    "        count_y = i*data_stride + data_step\n",
    "        img = Image.open(filepath + \"/\" + str(count_y+1)+\".png\")\n",
    "        data = np.resize(np.asarray(img), (330, 580, 4))#np.asarray(img)\n",
    "        y.append(data[:,:,0])\n",
    "    X = np.array(X, dtype='float32')\n",
    "    y = np.array(y, dtype='float32')\n",
    "    return X, y"
   ]
  },
  {
   "cell_type": "code",
   "execution_count": 4,
   "metadata": {},
   "outputs": [],
   "source": [
    "def get_bindata(data_path, data_index, data_phase, nt, nr):\n",
    "    # data_index start from 1\n",
    "    model_num = int( ( int(data_index) - 1 ) / 51) + 1\n",
    "    source_num = ( int(data_index) - 1 ) % 51 + 1\n",
    "    data_name = data_path + \"/model\" + str(model_num) + \"source\" + str(source_num) + data_phase + \".bin\"\n",
    "    print(data_name)\n",
    "    \n",
    "    out_data = np.empty((nt,nr))\n",
    "    FA = open(data_name, \"rb\")\n",
    "    FA.seek(3232,0)\n",
    "    for tt in range(nt):\n",
    "        for rr in range(nr):\n",
    "            data = FA.read(4)\n",
    "            data_float = struct.unpack(\"f\", data)[0]\n",
    "            out_data[tt][rr] = data_float\n",
    "     #np.shape(out_data)   # (4000,301)\n",
    "#     cut_data = out_data[0:4000, 8:401]\n",
    "    return out_data\n",
    "    "
   ]
  },
  {
   "cell_type": "code",
   "execution_count": 7,
   "metadata": {},
   "outputs": [
    {
     "name": "stdout",
     "output_type": "stream",
     "text": [
      "4590\n",
      "/media/wywdisk/VSPdata/data/layer2_1-90_rightPML/vz/model1source1vz.bin\n"
     ]
    }
   ],
   "source": [
    "## load in data - path\n",
    "# data_path = \"./mydata/first_test/\"\n",
    "data_path = \"/media/wywdisk/VSPdata/data/layer2_1-90_rightPML/vz\"\n",
    "\n",
    "datapath_list = os.listdir(data_path)\n",
    "datapath_list.sort()\n",
    "totalNum = len(datapath_list)\n",
    "print(totalNum)\n",
    "\n",
    "# indexNum = 1\n",
    "# data_name = data_path + str(indexNum) + \".png\"\n",
    "# print(data_name)\n",
    "data_index = 1\n",
    "data_phase = \"vz\"\n",
    "nt = 4000\n",
    "nr = 300\n",
    "this_data = get_bindata(data_path, data_index, data_phase, nt, nr)"
   ]
  },
  {
   "cell_type": "code",
   "execution_count": 18,
   "metadata": {},
   "outputs": [
    {
     "name": "stdout",
     "output_type": "stream",
     "text": [
      "The shape of  this_data \tis (4000, 300)\n",
      "The max:\t6.42170998617e-05 \tThe min:\t-6.66249470669e-05\n",
      "The mean:\t6.86736828383e-15 \tThe std:\t6.77819107633e-07\n",
      "The absolute mininal value is\t1.40129846432e-45\n"
     ]
    }
   ],
   "source": [
    "target = \"this_data\"\n",
    "print \"The shape of \", target, \"\\tis\", eval(target).shape\n",
    "print \"The max:\\t\",  eval(target).max(), \"\\tThe min:\\t\",  eval(target).min()\n",
    "print \"The mean:\\t\",  eval(target).mean(), \"\\tThe std:\\t\",  eval(target).std()\n",
    "print \"The absolute minimal value is\\t\", get_min_nonzero_value(this_data)"
   ]
  },
  {
   "cell_type": "code",
   "execution_count": null,
   "metadata": {},
   "outputs": [],
   "source": [
    "img = Image.open(data_name)"
   ]
  },
  {
   "cell_type": "code",
   "execution_count": null,
   "metadata": {},
   "outputs": [],
   "source": [
    "img.data"
   ]
  },
  {
   "cell_type": "code",
   "execution_count": null,
   "metadata": {},
   "outputs": [],
   "source": [
    "# 1）数据组合成网络需要的形式\n",
    "# 2）\n"
   ]
  }
 ],
 "metadata": {
  "hide_input": false,
  "kernelspec": {
   "display_name": "Python (tf-keras-py27)",
   "language": "python",
   "name": "tf-keras-py27"
  },
  "language_info": {
   "codemirror_mode": {
    "name": "ipython",
    "version": 2
   },
   "file_extension": ".py",
   "mimetype": "text/x-python",
   "name": "python",
   "nbconvert_exporter": "python",
   "pygments_lexer": "ipython2",
   "version": "2.7.15"
  },
  "nbTranslate": {
   "displayLangs": [
    "*"
   ],
   "hotkey": "alt-t",
   "langInMainMenu": true,
   "sourceLang": "en",
   "targetLang": "fr",
   "useGoogleTranslate": true
  },
  "toc": {
   "base_numbering": 1,
   "nav_menu": {},
   "number_sections": true,
   "sideBar": true,
   "skip_h1_title": false,
   "title_cell": "Table of Contents",
   "title_sidebar": "Contents",
   "toc_cell": false,
   "toc_position": {},
   "toc_section_display": true,
   "toc_window_display": false
  },
  "varInspector": {
   "cols": {
    "lenName": 16,
    "lenType": 16,
    "lenVar": 40
   },
   "kernels_config": {
    "python": {
     "delete_cmd_postfix": "",
     "delete_cmd_prefix": "del ",
     "library": "var_list.py",
     "varRefreshCmd": "print(var_dic_list())"
    },
    "r": {
     "delete_cmd_postfix": ") ",
     "delete_cmd_prefix": "rm(",
     "library": "var_list.r",
     "varRefreshCmd": "cat(var_dic_list()) "
    }
   },
   "types_to_exclude": [
    "module",
    "function",
    "builtin_function_or_method",
    "instance",
    "_Feature"
   ],
   "window_display": false
  }
 },
 "nbformat": 4,
 "nbformat_minor": 2
}
