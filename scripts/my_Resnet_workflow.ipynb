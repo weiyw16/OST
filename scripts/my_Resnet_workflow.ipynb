{
 "cells": [
  {
   "cell_type": "code",
   "execution_count": null,
   "metadata": {
    "code_folding": [
     0
    ]
   },
   "outputs": [],
   "source": [
    "## headings and self-function\n",
    "\"\"\"\n",
    "made by weiyw @ 2019-03-08\n",
    "made to use the deep Spatio-temporal Residual Network\n",
    "\"\"\"\n",
    "# from __future__ import print_function\n",
    "# from preprocessing import *\n",
    "# import numpy as np\n",
    "# np.random.seed(2333)  # for reproducibility\n",
    "\n",
    "\n",
    "import os\n",
    "import time\n",
    "import struct\n",
    "import numpy as np\n",
    "import h5py\n",
    "\n",
    "from keras.optimizers import Adam\n",
    "from keras.callbacks import EarlyStopping, ModelCheckpoint\n",
    "\n",
    "from STResNet import stresnet\n",
    "import metrics as metrics\n",
    "\n",
    "from PIL import Image\n",
    "import matplotlib.pyplot as plt\n",
    "\n",
    "def get_min_nonzero_value(data_in, init_min = 1):\n",
    "    min_value = init_min\n",
    "    for bb in data_in:\n",
    "        for aa in bb:\n",
    "            if abs(aa) < min_value and aa != 0:\n",
    "                min_value = abs(aa)\n",
    "    return min_value\n",
    "\n",
    "def get_bindata(data_path, data_index, data_phase, nt, nr):\n",
    "    # data_index start from 1\n",
    "    model_num = int( ( int(data_index) - 1 ) / 51) + 1\n",
    "    source_num = ( int(data_index) - 1 ) % 51 + 1\n",
    "    data_name = data_path + \"/model\" + str(model_num) + \"source\" + str(source_num) + data_phase + \".bin\"\n",
    "    print(data_name)\n",
    "    \n",
    "    out_data = np.empty((nt,nr))\n",
    "    FA = open(data_name, \"rb\")\n",
    "    FA.seek(3232,0)\n",
    "    for tt in range(nt):\n",
    "        for rr in range(nr):\n",
    "            data = FA.read(4)\n",
    "            data_float = struct.unpack(\"f\", data)[0]\n",
    "            out_data[tt][rr] = data_float\n",
    "     #np.shape(out_data)   # (4000,301)\n",
    "#     cut_data = out_data[0:4000, 8:401]\n",
    "    return out_data\n",
    "    "
   ]
  },
  {
   "cell_type": "code",
   "execution_count": null,
   "metadata": {},
   "outputs": [],
   "source": [
    "## loadin data\n",
    "# data_path = \"./mydata/first_test/\"\n",
    "data_path = \"/media/wywdisk/VSPdata/data/layer2_1-90_rightPML/vz\"\n",
    "\n",
    "datapath_list = os.listdir(data_path)\n",
    "datapath_list.sort()\n",
    "totalNum = len(datapath_list)\n",
    "print(totalNum)\n",
    "\n",
    "\n",
    "# indexNum = 1\n",
    "# data_name = data_path + str(indexNum) + \".png\"\n",
    "# print(data_name)\n",
    "data_index = 1\n",
    "data_phase = \"vz\"\n",
    "nt = 4000\n",
    "nr = 300\n",
    "this_data = get_bindata(data_path, data_index, data_phase, nt, nr)    "
   ]
  },
  {
   "cell_type": "code",
   "execution_count": null,
   "metadata": {},
   "outputs": [],
   "source": [
    "target = \"this_data\"\n",
    "print \"The shape of \", target, \"\\tis\", eval(target).shape\n",
    "print \"The max:\\t\",  eval(target).max(), \"\\tThe min:\\t\",  eval(target).min()\n",
    "print \"The mean:\\t\",  eval(target).mean(), \"\\tThe std:\\t\",  eval(target).std()\n",
    "print \"The absolute minimal value is\\t\", get_min_nonzero_value(this_data)"
   ]
  },
  {
   "cell_type": "code",
   "execution_count": null,
   "metadata": {
    "code_folding": [
     0
    ],
    "run_control": {
     "marked": true
    }
   },
   "outputs": [],
   "source": [
    "## ST-ResNet\n",
    "'''\n",
    "    ST-ResNet: Deep Spatio-temporal Residual Networks\n",
    "    modified by weiyw @ 2019-04-01\n",
    "'''\n",
    "\n",
    "from __future__ import print_function\n",
    "from keras.layers import (\n",
    "    Input,\n",
    "    Activation,\n",
    "    merge,\n",
    "    Dense,\n",
    "    Reshape\n",
    ")\n",
    "from keras.layers.convolutional import Convolution2D\n",
    "from keras.layers.normalization import BatchNormalization\n",
    "from keras.models import Model\n",
    "#from keras.utils.visualize_util import plot\n",
    "\n",
    "\n",
    "def _shortcut(input, residual):\n",
    "    return merge([input, residual], mode='sum')\n",
    "\n",
    "\n",
    "def _bn_relu_conv(nb_filter, nb_row, nb_col, subsample=(1, 1), bn=False):\n",
    "    def f(input):\n",
    "        if bn:\n",
    "            input = BatchNormalization(mode=0, axis=1)(input) ## attention!!\n",
    "        activation = Activation('relu')(input)\n",
    "        return Convolution2D(nb_filter=nb_filter, nb_row=nb_row, nb_col=nb_col, subsample=subsample, border_mode=\"same\")(activation)\n",
    "    return f\n",
    "\n",
    "\n",
    "def _residual_unit(nb_filter, init_subsample=(1, 1)):\n",
    "    def f(input):\n",
    "        residual = _bn_relu_conv(nb_filter, 3, 3)(input)\n",
    "        residual = _bn_relu_conv(nb_filter, 3, 3)(residual)\n",
    "        return _shortcut(input, residual)\n",
    "    return f\n",
    "\n",
    "\n",
    "def ResUnits(residual_unit, nb_filter, repetations=1):\n",
    "    def f(input):\n",
    "        for i in range(repetations):\n",
    "            init_subsample = (1, 1)\n",
    "            input = residual_unit(nb_filter=nb_filter,\n",
    "                                  init_subsample=init_subsample)(input)\n",
    "        return input\n",
    "    return f\n",
    "\n",
    "\n",
    "# def stresnet(c_conf=(3, 2, 32, 32), p_conf=(3, 2, 32, 32), t_conf=(3, 2, 32, 32), external_dim=8, nb_residual_unit=3):\n",
    "def stresnet(total_conf=(3, 2, 32, 32), external_dim=None, nb_residual_unit=3):\n",
    "    '''\n",
    "    C - Temporal Closeness\n",
    "    P - Period\n",
    "    T - Trend\n",
    "    conf = (len_seq, nb_flow, map_height, map_width)\n",
    "    external_dim\n",
    "    '''\n",
    "    # main input\n",
    "    main_inputs = []\n",
    "    outputs = []\n",
    "    for conf in [total_conf] :#[c_conf, p_conf, t_conf]:\n",
    "        if conf is not None:\n",
    "            len_seq, nb_flow, map_height, map_width = conf\n",
    "            input = Input(shape=(nb_flow * len_seq, map_height, map_width))\n",
    "            main_inputs.append(input)\n",
    "            # Conv1\n",
    "            conv1 = Convolution2D(\n",
    "                nb_filter=64, nb_row=2, nb_col=2, border_mode=\"same\")(input)\n",
    "#             conv1 = Convolution2D(\n",
    "#                 nb_filter=64, nb_row=3, nb_col=3, border_mode=\"same\")(input)\n",
    "            # [nb_residual_unit] Residual Units\n",
    "            residual_output = ResUnits(_residual_unit, nb_filter=64,\n",
    "                              repetations=nb_residual_unit)(conv1)\n",
    "            # Conv2\n",
    "            activation = Activation('relu')(residual_output)\n",
    "#             conv2 = Convolution2D(\n",
    "#                 nb_filter=nb_flow, nb_row=3, nb_col=3, border_mode=\"same\")(activation)\n",
    "            conv2 = Convolution2D(\n",
    "                nb_filter=nb_flow, nb_row=2, nb_col=2, border_mode=\"same\")(activation)\n",
    "\n",
    "            outputs.append(conv2)\n",
    "\n",
    "    # parameter-matrix-based fusion\n",
    "    if len(outputs) == 1:\n",
    "        main_output = outputs[0]\n",
    "    else:\n",
    "        from .iLayer import iLayer\n",
    "        new_outputs = []\n",
    "        for output in outputs:\n",
    "            new_outputs.append(iLayer()(output))\n",
    "        main_output = merge(new_outputs, mode='sum')\n",
    "\n",
    "    # fusing with external component\n",
    "    if external_dim != None and external_dim > 0:\n",
    "        # external input\n",
    "        external_input = Input(shape=(external_dim,))\n",
    "        main_inputs.append(external_input)\n",
    "        embedding = Dense(output_dim=10)(external_input)\n",
    "        embedding = Activation('relu')(embedding)\n",
    "        h1 = Dense(output_dim=nb_flow * map_height * map_width)(embedding)\n",
    "        activation = Activation('relu')(h1)\n",
    "        external_output = Reshape((nb_flow, map_height, map_width))(activation)\n",
    "        main_output = merge([main_output, external_output], mode='sum')\n",
    "    else:\n",
    "        print('external_dim:', external_dim)\n",
    "\n",
    "    main_output = Activation('tanh')(main_output)\n",
    "    model = Model(input=main_inputs, output=main_output)\n",
    "\n",
    "    return model\n",
    "\n",
    "# if __name__ == '__main__':\n",
    "# #     model = stresnet(external_dim=28, nb_residual_unit=12)\n",
    "#     model = stresnet(external_dim=None, nb_residual_unit=8)\n",
    "#     #plot(model, to_file='ST-ResNet.png', show_shapes=True)\n",
    "#     model.summary()\n"
   ]
  },
  {
   "cell_type": "code",
   "execution_count": null,
   "metadata": {
    "code_folding": [
     0
    ]
   },
   "outputs": [],
   "source": [
    "## evaluation\n",
    "# import numpy as np\n",
    "from keras import backend as K\n",
    "def mean_squared_error(y_true, y_pred):\n",
    "    return K.mean(K.square(y_pred - y_true))\n",
    "\n",
    "\n",
    "def root_mean_square_error(y_true, y_pred):\n",
    "    return mean_squared_error(y_true, y_pred) ** 0.5\n",
    "\n",
    "\n",
    "def rmse(y_true, y_pred):\n",
    "    return mean_squared_error(y_true, y_pred) ** 0.5\n",
    "\n",
    "# aliases\n",
    "mse = MSE = mean_squared_error\n",
    "rmse = RMSE = root_mean_square_error"
   ]
  },
  {
   "cell_type": "code",
   "execution_count": null,
   "metadata": {},
   "outputs": [],
   "source": [
    "model = stresnet(external_dim=None, nb_residual_unit=8)\n",
    "model.summary()"
   ]
  },
  {
   "cell_type": "code",
   "execution_count": null,
   "metadata": {},
   "outputs": [],
   "source": [
    "adam = Adam(lr=lr)\n",
    "model.compile(loss='mse', optimizer=adam, metrics=[rmse])\n",
    " #   model.summary()"
   ]
  }
 ],
 "metadata": {
  "hide_input": false,
  "kernelspec": {
   "display_name": "Python (tf-keras-py27)",
   "language": "python",
   "name": "tf-keras-py27"
  },
  "language_info": {
   "codemirror_mode": {
    "name": "ipython",
    "version": 2
   },
   "file_extension": ".py",
   "mimetype": "text/x-python",
   "name": "python",
   "nbconvert_exporter": "python",
   "pygments_lexer": "ipython2",
   "version": "2.7.15"
  },
  "nbTranslate": {
   "displayLangs": [
    "*"
   ],
   "hotkey": "alt-t",
   "langInMainMenu": true,
   "sourceLang": "en",
   "targetLang": "fr",
   "useGoogleTranslate": true
  },
  "toc": {
   "base_numbering": 1,
   "nav_menu": {},
   "number_sections": true,
   "sideBar": true,
   "skip_h1_title": false,
   "title_cell": "Table of Contents",
   "title_sidebar": "Contents",
   "toc_cell": false,
   "toc_position": {},
   "toc_section_display": true,
   "toc_window_display": false
  },
  "varInspector": {
   "cols": {
    "lenName": 16,
    "lenType": 16,
    "lenVar": 40
   },
   "kernels_config": {
    "python": {
     "delete_cmd_postfix": "",
     "delete_cmd_prefix": "del ",
     "library": "var_list.py",
     "varRefreshCmd": "print(var_dic_list())"
    },
    "r": {
     "delete_cmd_postfix": ") ",
     "delete_cmd_prefix": "rm(",
     "library": "var_list.r",
     "varRefreshCmd": "cat(var_dic_list()) "
    }
   },
   "types_to_exclude": [
    "module",
    "function",
    "builtin_function_or_method",
    "instance",
    "_Feature"
   ],
   "window_display": false
  }
 },
 "nbformat": 4,
 "nbformat_minor": 2
}
