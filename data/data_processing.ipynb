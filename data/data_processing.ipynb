{
 "cells": [
  {
   "cell_type": "code",
   "execution_count": 1,
   "metadata": {},
   "outputs": [],
   "source": [
    "## headings\n",
    "# reference: https://github.com/eriklindernoren/Keras-GAN/blob/master/pix2pix/data_loader.py\n",
    "#            https://github.com/equinor/segyio\n",
    "import os\n",
    "import struct\n",
    "import segyio\n",
    "import numpy as np\n"
   ]
  },
  {
   "cell_type": "code",
   "execution_count": 50,
   "metadata": {},
   "outputs": [],
   "source": [
    "data_path = '/home/wyw/data/SEAM_I_walkaway_vsp_s23900/SEAM_Well1VSP_Shots23900.sgy'\n",
    "\n",
    "batch_size = 1\n",
    "nt = 2001\n",
    "nr = 467\n",
    "nph = 3\n",
    "\n",
    "x_data = np.empty((batch_size, nt, nr, nph)) ## b-4000-300-2, vz, vx\n",
    "y_data = np.empty((batch_size, nt, nr, 1)) ## b-4000-300-2, div, curl\n",
    "\n",
    "batch_i = 0\n",
    "shot_i = 0\n",
    "nr_i = 0\n",
    "with segyio.open(data_path,'r',ignore_geometry=True) as segyfile:\n",
    "    segyfile.mmap()\n",
    "    y_data[batch_i,:,nr_i,0] = \\\n",
    "    segyfile.trace[shot_i * 4 * nr + nr_i * 4 + 0]\n",
    "    x_data[batch_i,:,nr_i,0] = \\\n",
    "    segyfile.trace[shot_i * 4 * nr + nr_i * 4 + 1]\n",
    "    x_data[batch_i,:,nr_i,1] = \\\n",
    "    segyfile.trace[shot_i * 4 * nr + nr_i * 4 + 2]\n",
    "    x_data[batch_i,:,nr_i,2] = \\\n",
    "    segyfile.trace[shot_i * 4 * nr + nr_i * 4 + 3]                 "
   ]
  },
  {
   "cell_type": "code",
   "execution_count": 51,
   "metadata": {},
   "outputs": [
    {
     "name": "stdout",
     "output_type": "stream",
     "text": [
      "The shape of a1   : (1, 2001, 467, 3)\n",
      "The range        :  [-81.13404846191406, 67.2001953125]\n",
      "The range        :  [-83.88545227050781, 101.60997009277344]\n",
      "The range        :  [-11.60590648651123, 9.526060104370117]\n",
      "The range        :  [-1248.35302734375, 2678.419921875]\n"
     ]
    }
   ],
   "source": [
    "print(\"The shape of a1   :\",x_data.shape)\n",
    "print(\"The range        : \", [x_data[-1,:,:,0].min(),x_data[-1,:,:,0].max()])\n",
    "print(\"The range        : \", [x_data[-1,:,:,1].min(),x_data[-1,:,:,1].max()])\n",
    "print(\"The range        : \", [x_data[-1,:,:,2].min(),x_data[-1,:,:,2].max()])\n",
    "print(\"The range        : \", [y_data[-1,:,:,0].min(),y_data[-1,:,:,0].max()])"
   ]
  },
  {
   "cell_type": "code",
   "execution_count": 52,
   "metadata": {},
   "outputs": [],
   "source": [
    "def normaliza(datain):\n",
    "    for batch_ii in range( datain.shape[0] ):\n",
    "        for iterm_ii in range( datain.shape[-1] ):\n",
    "            target = datain[batch_ii, :, :, iterm_ii]\n",
    "            mind = target.min() #datain[batch_ii, :, :, iterm_ii].min()\n",
    "            maxd = target.max() #datain[batch_ii, :, :, iterm_ii].max()      \n",
    "            for ii in range(target.shape[0]):\n",
    "                for jj in range(target.shape[1]):\n",
    "                    if target[ii, jj] > 0: \n",
    "                        target[ii,jj] = target[ii,jj] / maxd\n",
    "                    if target[ii, jj] < 0:\n",
    "                        target[ii,jj] = target[ii,jj] / ( 0 - mind )\n",
    "            datain[batch_ii, :, :, iterm_ii] = target\n",
    "#     return datain\n",
    "                \n",
    "            \n",
    "\n",
    "    "
   ]
  },
  {
   "cell_type": "code",
   "execution_count": 53,
   "metadata": {},
   "outputs": [],
   "source": [
    "# y_norm_data = normaliza(y_data)\n",
    "normaliza(y_data)"
   ]
  },
  {
   "cell_type": "code",
   "execution_count": 54,
   "metadata": {},
   "outputs": [
    {
     "name": "stdout",
     "output_type": "stream",
     "text": [
      "The range        :  [0.0, 1.0]\n"
     ]
    }
   ],
   "source": [
    "print(\"The range        : \", [y_norm_data[-1,:,:,0].min(),y_norm_data[-1,:,:,0].max()])"
   ]
  },
  {
   "cell_type": "code",
   "execution_count": 55,
   "metadata": {},
   "outputs": [
    {
     "name": "stdout",
     "output_type": "stream",
     "text": [
      "The range        :  [-1.0, 1.0]\n"
     ]
    }
   ],
   "source": [
    "print(\"The range        : \", [y_data[-1,:,:,0].min(),y_data[-1,:,:,0].max()])"
   ]
  },
  {
   "cell_type": "code",
   "execution_count": 56,
   "metadata": {},
   "outputs": [],
   "source": [
    "normaliza(x_data)"
   ]
  },
  {
   "cell_type": "code",
   "execution_count": 57,
   "metadata": {},
   "outputs": [
    {
     "name": "stdout",
     "output_type": "stream",
     "text": [
      "The range        :  [-1.0, 1.0]\n",
      "The range        :  [-1.0, 1.0]\n",
      "The range        :  [-1.0, 1.0]\n"
     ]
    }
   ],
   "source": [
    "print(\"The range        : \", [x_data[-1,:,:,0].min(),x_data[-1,:,:,0].max()])\n",
    "print(\"The range        : \", [x_data[-1,:,:,1].min(),x_data[-1,:,:,1].max()])\n",
    "print(\"The range        : \", [x_data[-1,:,:,2].min(),x_data[-1,:,:,2].max()])"
   ]
  },
  {
   "cell_type": "code",
   "execution_count": 19,
   "metadata": {},
   "outputs": [],
   "source": [
    "aa = np.array([[[0,1,2],[3,4,5]]])"
   ]
  },
  {
   "cell_type": "code",
   "execution_count": 20,
   "metadata": {},
   "outputs": [
    {
     "data": {
      "text/plain": [
       "array([0, 1, 2])"
      ]
     },
     "execution_count": 20,
     "metadata": {},
     "output_type": "execute_result"
    }
   ],
   "source": [
    "aa[0,0,:]"
   ]
  },
  {
   "cell_type": "code",
   "execution_count": 21,
   "metadata": {},
   "outputs": [
    {
     "data": {
      "text/plain": [
       "(1, 2, 3)"
      ]
     },
     "execution_count": 21,
     "metadata": {},
     "output_type": "execute_result"
    }
   ],
   "source": [
    "aa.shape"
   ]
  },
  {
   "cell_type": "code",
   "execution_count": 22,
   "metadata": {},
   "outputs": [],
   "source": [
    "aa[0,0,:] = [aai + 1 for aai in aa[0,0,:]]"
   ]
  },
  {
   "cell_type": "code",
   "execution_count": 23,
   "metadata": {},
   "outputs": [
    {
     "data": {
      "text/plain": [
       "array([1, 2, 3])"
      ]
     },
     "execution_count": 23,
     "metadata": {},
     "output_type": "execute_result"
    }
   ],
   "source": [
    "aa[0,0,:]"
   ]
  },
  {
   "cell_type": "code",
   "execution_count": 43,
   "metadata": {},
   "outputs": [],
   "source": [
    "bb = aa[0,:,:]"
   ]
  },
  {
   "cell_type": "code",
   "execution_count": 45,
   "metadata": {},
   "outputs": [
    {
     "data": {
      "text/plain": [
       "(2, 3)"
      ]
     },
     "execution_count": 45,
     "metadata": {},
     "output_type": "execute_result"
    }
   ],
   "source": [
    "bb.shape"
   ]
  },
  {
   "cell_type": "code",
   "execution_count": null,
   "metadata": {},
   "outputs": [],
   "source": []
  }
 ],
 "metadata": {
  "kernelspec": {
   "display_name": "Python (tf-keras)",
   "language": "python",
   "name": "tf-keras"
  },
  "language_info": {
   "codemirror_mode": {
    "name": "ipython",
    "version": 3
   },
   "file_extension": ".py",
   "mimetype": "text/x-python",
   "name": "python",
   "nbconvert_exporter": "python",
   "pygments_lexer": "ipython3",
   "version": "3.6.8"
  }
 },
 "nbformat": 4,
 "nbformat_minor": 2
}
