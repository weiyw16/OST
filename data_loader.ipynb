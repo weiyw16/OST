{
 "cells": [
  {
   "cell_type": "code",
   "execution_count": 1,
   "metadata": {},
   "outputs": [],
   "source": [
    "## headings\n",
    "# reference: https://github.com/eriklindernoren/Keras-GAN/blob/master/pix2pix/data_loader.py\n",
    "import os\n",
    "import struct\n",
    "import numpy as np\n",
    "from glob import glob"
   ]
  },
  {
   "cell_type": "code",
   "execution_count": 2,
   "metadata": {
    "code_folding": []
   },
   "outputs": [],
   "source": [
    "class Dataloader():\n",
    "    def __init__(self, data_path, nt, nr, nph):\n",
    "        self.data_path = data_path\n",
    "        self.nt = nt\n",
    "        self.nr = nr\n",
    "        self.nph = nph\n",
    "    \n",
    "    \n",
    "    def readin_bin_data(self, data_name):\n",
    "        out_data = np.empty((self.nt, self.nr))\n",
    "        FA = open(data_name, \"rb\")\n",
    "        FA.seek(3232,0)\n",
    "        for tt in range(self.nt):\n",
    "            for rr in range(self.nr):\n",
    "                data = FA.read(4)\n",
    "                data_float = struct.unpack(\"f\", data)[0]\n",
    "                out_data[tt][rr] = data_float\n",
    "         #np.shape(out_data)   # (4000,301)\n",
    "    #     cut_data = out_data[0:4000, 8:401]\n",
    "        return out_data  \n",
    "    \n",
    "    \n",
    "#     def load_data(self, batch_size=1, is_testing=False):\n",
    "#         data_type = \"train\" if not is_testing else \"test\"\n",
    "# #         path = os.path.join(self.data_path, self.dataset_name)\n",
    "        \n",
    "#         return x_data, y_data\n",
    "    \n",
    "    \n",
    "    def load_batch(self, batch_size=1, is_testing=False, ratio=0.5):\n",
    "        data_type = \"train\" if not is_testing else \"test\"\n",
    "#         path = glob('%s/%s/%s/*' % (self.data_path, self.dataset_name, data_type))\n",
    "        path = glob('%s/vz/*' % self.data_path)\n",
    "#         path = glob('./datasets/%s/%s/*' % (self.dataset_name, data_type))\n",
    "#         path = os.path.join(self.data_path, self.dataset_name)\n",
    "        \n",
    "        self.n_batches = int( len(path) / batch_size * ratio )\n",
    "#         self.n_batches = 1\n",
    "        \n",
    "        for i in range(self.n_batches):\n",
    "#             batch = path[ i * batch_size : (i+1) * batch_size]\n",
    "#             batch_num = [ i * batch_size : (i+1) * batch_size]\n",
    "#             x_data, y_data = [], [] ## 用list还是array？\n",
    "            x_data = np.empty((batch_size, self.nt, self.nr, self.nph)) ## b-4000-300-2, vz, vx\n",
    "            y_data = np.empty((batch_size, self.nt, self.nr, self.nph)) ## b-4000-300-2, div, curl\n",
    "            for data_index_local in range(batch_size): ## 0 ~ batchsize-1\n",
    "                data_index = i * batch_size + data_index_local + 1\n",
    "                model_num = int( ( int(data_index) - 1 ) / 51) + 1\n",
    "                source_num = ( int(data_index) - 1 ) % 51 + 1\n",
    "                if self.nph == 2:\n",
    "                    for data_phase in ['vz', 'vx']:\n",
    "                        p_flag = int(data_phase == 'vx')\n",
    "                        data_name = self.data_path + \"/\" + data_phase + \\\n",
    "                        \"/model\" + str(model_num) + \"source\" + str(source_num) + data_phase + \".bin\"\n",
    "#                         print(data_name)\n",
    "                        x_data[data_index_local, :, :, p_flag] = self.readin_bin_data(data_name)\n",
    "                    for data_phase in ['div', 'curl']:\n",
    "                        p_flag = int(data_phase == 'curl')\n",
    "                        data_name = self.data_path + \"/\" + data_phase + \\\n",
    "                        \"/model\" + str(model_num) + \"source\" + str(source_num) + data_phase + \".bin\"\n",
    "#                         print(data_name)\n",
    "                        y_data[data_index_local, :, :, p_flag] = self.readin_bin_data(data_name)\n",
    "                if self.nph == 1:\n",
    "                    data_phase = 'vz'\n",
    "                    data_name = self.data_path + \"/\" + data_phase + \\\n",
    "                    \"/model\" + str(model_num) + \"source\" + str(source_num) + data_phase + \".bin\"\n",
    "                    x_data[data_index_local, :, :, 0] = self.readin_bin_data(data_name)\n",
    "                    data_phase = 'div'\n",
    "                    data_name = self.data_path + \"/\" + data_phase + \\\n",
    "                    \"/model\" + str(model_num) + \"source\" + str(source_num) + data_phase + \".bin\"\n",
    "                    y_data[data_index_local, :, :, 0] = self.readin_bin_data(data_name)                    \n",
    "                yield x_data, y_data"
   ]
  },
  {
   "cell_type": "code",
   "execution_count": 6,
   "metadata": {},
   "outputs": [],
   "source": [
    "# data_path = \"/media/wywdisk/VSPdata/data/haveinvx/layer2_haveinvx\"\n",
    "data_path = \"/home/wyw/data/MKDATA/mkvspdata/E28093/E-layer4\"\n",
    "my_data_loader = Dataloader(data_path, 10000, 467, 2)"
   ]
  },
  {
   "cell_type": "code",
   "execution_count": 7,
   "metadata": {},
   "outputs": [],
   "source": [
    "# my_data_loader.load_batch(batch_size=1, is_testing=False, ratio=0.001)"
   ]
  },
  {
   "cell_type": "code",
   "execution_count": 8,
   "metadata": {},
   "outputs": [
    {
     "name": "stdout",
     "output_type": "stream",
     "text": [
      "0\n",
      "The shape of a1   : (1, 10000, 467, 2)\n",
      "The range        :  [0.0, 10005.0]\n",
      "1\n",
      "The shape of a1   : (1, 10000, 467, 2)\n",
      "The range        :  [0.0, 10005.0]\n"
     ]
    }
   ],
   "source": [
    "for batch_i, (x_data, y_data) in enumerate(my_data_loader.load_batch(batch_size=1, is_testing=False, ratio=0.02)):\n",
    "    print(batch_i)\n",
    "#     print(x_data.shape, y_data.shape )\n",
    "#     print(x_data,y_data)\n",
    "#     a1 = y_predict\n",
    "#     print(\"Information of a1 :\")\n",
    "    print(\"The shape of a1   :\",x_data.shape)\n",
    "    print(\"The range        : \", [x_data[0,:,:,1].min(),x_data[0,:,:,1].max()])"
   ]
  },
  {
   "cell_type": "code",
   "execution_count": 11,
   "metadata": {},
   "outputs": [
    {
     "data": {
      "image/png": "[encoded data removed]",
      "text/plain": [
       "<Figure size 1152x864 with 8 Axes>"
      ]
     },
     "metadata": {
      "needs_background": "light"
     },
     "output_type": "display_data"
    }
   ],
   "source": [
    "## plot y_predict\n",
    "import matplotlib.pyplot as plt\n",
    "from matplotlib.ticker import MultipleLocator\n",
    "lines = 2\n",
    "cols = 2\n",
    "forts = 12\n",
    "ss1 = 300\n",
    "ss2 = 400\n",
    "value_limit = 100#1e-20\n",
    "\n",
    "x_libs = [0,0, 500, 1000, 1500, 2000]#np.linspace(0,1500,4)#[0, 500, 1000, 1500]\n",
    "y_libs = np.linspace(0,2,9)#[0,0.4, 0.8, 1.2, 1.6, 2]\n",
    "\n",
    "fig, axs = plt.subplots(1,2,figsize=(16, 12), sharey=True)\n",
    "\n",
    "# obj = 'y_predict'\n",
    "# im = plt.imshow(eval(obj)[0,:,:,1], extent=[0, 512, 512,0])\n",
    "# plt.colorbar(im)\n",
    "\n",
    "# ax1 = plt.subplot(131)\n",
    "ax1 = plt.subplot(lines,cols,1)\n",
    "obj = 'x_data'\n",
    "# print(obj, \": \", eval(obj).shape, \"\\t\", [eval(obj).min(), eval(obj).max()] )\n",
    "im = plt.imshow(eval(obj)[0,:,:,0], extent=[0, ss1, ss2,0],vmin=-value_limit, vmax=value_limit)\n",
    "plt.colorbar(im)\n",
    "# plt.title(\"The elastic z component of VSP data\", fontsize=forts);\n",
    "plt.title(\"original vz\", fontsize=forts);\n",
    "plt.xlabel('depth(m)', fontsize=forts);\n",
    "plt.ylabel('time(s)', fontsize=forts);\n",
    "ax1.xaxis.set_major_locator(MultipleLocator(75))\n",
    "ax1.xaxis.set(ticklabels=x_libs)#[0,300,600, 900, 1200, 1500]);\n",
    "ax1.yaxis.set(ticklabels=y_libs)#[0,0.4, 0.8, 1.2, 1.6, 2]);\n",
    "plt.setp(ax1.get_xticklabels(), fontsize=10);\n",
    "# plt.tight_layout()\n",
    "\n",
    "# ax1 = plt.subplot(131)\n",
    "ax2 = plt.subplot(lines,cols,2)\n",
    "obj = 'x_data'\n",
    "# print(obj, \": \", eval(obj).shape, \"\\t\", [eval(obj).min(), eval(obj).max()] )\n",
    "im = plt.imshow(eval(obj)[0,:,:,1], extent=[0, ss1, ss2,0],vmin=-value_limit, vmax=value_limit)\n",
    "plt.colorbar(im)\n",
    "# plt.title(\"The elastic z component of VSP data\", fontsize=forts);\n",
    "plt.title(\"original vx\", fontsize=forts);\n",
    "plt.xlabel('depth(m)', fontsize=forts);\n",
    "plt.ylabel('time(s)', fontsize=forts);\n",
    "# ax1 = fig.add_subplot(131)\n",
    "ax2.xaxis.set_major_locator(MultipleLocator(75))\n",
    "ax2.xaxis.set(ticklabels=x_libs)#[0,300,600, 900, 1200, 1500]);\n",
    "ax2.yaxis.set(ticklabels=y_libs)#[0,0.4, 0.8, 1.2, 1.6, 2]);\n",
    "plt.setp(ax2.get_xticklabels(), fontsize=10);\n",
    "# plt.tight_layout()\n",
    "\n",
    "# ax1 = plt.subplot(131)\n",
    "ax3 = plt.subplot(lines,cols,3)\n",
    "obj = 'y_data'\n",
    "# print(obj, \": \", eval(obj).shape, \"\\t\", [eval(obj).min(), eval(obj).max()] )\n",
    "im = plt.imshow(eval(obj)[0,:,:,0], extent=[0, ss1, ss2,0],vmin=-value_limit, vmax=value_limit)\n",
    "plt.colorbar(im)\n",
    "# plt.title(\"The elastic z component of VSP data\", fontsize=forts);\n",
    "plt.title(\"original div\", fontsize=forts);\n",
    "plt.xlabel('depth(m)', fontsize=forts);\n",
    "plt.ylabel('time(s)', fontsize=forts);\n",
    "# ax1 = fig.add_subplot(131)\n",
    "ax3.xaxis.set_major_locator(MultipleLocator(75))\n",
    "ax3.xaxis.set(ticklabels=x_libs)#[0,300,600, 900, 1200, 1500]);\n",
    "ax3.yaxis.set(ticklabels=y_libs)#[0,0.4, 0.8, 1.2, 1.6, 2]);\n",
    "plt.setp(ax3.get_xticklabels(), fontsize=10);\n",
    "# plt.tight_layout()\n",
    "\n",
    "# ax1 = plt.subplot(131)\n",
    "ax4 = plt.subplot(lines,cols,4)\n",
    "obj = 'y_data'\n",
    "# print(obj, \": \", eval(obj).shape, \"\\t\", [eval(obj).min(), eval(obj).max()] )\n",
    "im = plt.imshow(eval(obj)[0,:,:,1], extent=[0, ss1, ss2,0],vmin=-0.1*value_limit, vmax=0.1*value_limit)\n",
    "plt.colorbar(im)\n",
    "# plt.title(\"The elastic z component of VSP data\", fontsize=forts);\n",
    "plt.title(\"original curl\", fontsize=forts);\n",
    "plt.xlabel('depth(m)', fontsize=forts);\n",
    "plt.ylabel('time(s)', fontsize=forts);\n",
    "# ax1 = fig.add_subplot(131)\n",
    "ax4.xaxis.set_major_locator(MultipleLocator(75))\n",
    "ax4.xaxis.set(ticklabels=x_libs)#[0,300,600, 900, 1200, 1500]);\n",
    "ax4.yaxis.set(ticklabels=y_libs)#[0,0.4, 0.8, 1.2, 1.6, 2]);\n",
    "plt.setp(ax4.get_xticklabels(), fontsize=10);\n",
    "# plt.tight_layout()\n",
    "\n"
   ]
  },
  {
   "cell_type": "code",
   "execution_count": null,
   "metadata": {},
   "outputs": [],
   "source": []
  },
  {
   "cell_type": "code",
   "execution_count": null,
   "metadata": {},
   "outputs": [],
   "source": []
  }
 ],
 "metadata": {
  "hide_input": false,
  "kernelspec": {
   "display_name": "Python (tf-keras)",
   "language": "python",
   "name": "tf-keras"
  },
  "language_info": {
   "codemirror_mode": {
    "name": "ipython",
    "version": 3
   },
   "file_extension": ".py",
   "mimetype": "text/x-python",
   "name": "python",
   "nbconvert_exporter": "python",
   "pygments_lexer": "ipython3",
   "version": "3.6.8"
  },
  "nbTranslate": {
   "displayLangs": [
    "*"
   ],
   "hotkey": "alt-t",
   "langInMainMenu": true,
   "sourceLang": "en",
   "targetLang": "fr",
   "useGoogleTranslate": true
  },
  "toc": {
   "base_numbering": 1,
   "nav_menu": {},
   "number_sections": true,
   "sideBar": true,
   "skip_h1_title": false,
   "title_cell": "Table of Contents",
   "title_sidebar": "Contents",
   "toc_cell": false,
   "toc_position": {},
   "toc_section_display": true,
   "toc_window_display": false
  },
  "varInspector": {
   "cols": {
    "lenName": 16,
    "lenType": 16,
    "lenVar": 40
   },
   "kernels_config": {
    "python": {
     "delete_cmd_postfix": "",
     "delete_cmd_prefix": "del ",
     "library": "var_list.py",
     "varRefreshCmd": "print(var_dic_list())"
    },
    "r": {
     "delete_cmd_postfix": ") ",
     "delete_cmd_prefix": "rm(",
     "library": "var_list.r",
     "varRefreshCmd": "cat(var_dic_list()) "
    }
   },
   "types_to_exclude": [
    "module",
    "function",
    "builtin_function_or_method",
    "instance",
    "_Feature"
   ],
   "window_display": false
  }
 },
 "nbformat": 4,
 "nbformat_minor": 2
}
