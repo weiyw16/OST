{
 "cells": [
  {
   "cell_type": "code",
   "execution_count": 2,
   "metadata": {},
   "outputs": [
    {
     "name": "stderr",
     "output_type": "stream",
     "text": [
      "Using TensorFlow backend.\n"
     ]
    }
   ],
   "source": [
    "## network workflow\n",
    "import keras\n",
    "from keras.models import Model\n",
    "# from keras.layers.convolutional import Convolution2D\n",
    "# from keras.layers.convolutional import Conv3d\n",
    "# from keras.layers.convolutional import Conv3D\n",
    "from keras.layers import Conv2D\n",
    "from keras.layers.normalization import BatchNormalization\n",
    "from keras.layers import (\n",
    "    Input,\n",
    "    Activation,\n",
    "    merge,\n",
    "    Dense,\n",
    "    Reshape\n",
    ")"
   ]
  },
  {
   "cell_type": "code",
   "execution_count": 6,
   "metadata": {},
   "outputs": [
    {
     "name": "stdout",
     "output_type": "stream",
     "text": [
      "_________________________________________________________________\n",
      "Layer (type)                 Output Shape              Param #   \n",
      "=================================================================\n",
      "input_3 (InputLayer)         (None, 2001, 467, 3)      0         \n",
      "_________________________________________________________________\n",
      "conv2d_3 (Conv2D)            (None, 2001, 467, 64)     1792      \n",
      "_________________________________________________________________\n",
      "batch_normalization_2 (Batch (None, 2001, 467, 64)     256       \n",
      "_________________________________________________________________\n",
      "conv2d_4 (Conv2D)            (None, 2001, 467, 1)      577       \n",
      "=================================================================\n",
      "Total params: 2,625\n",
      "Trainable params: 2,497\n",
      "Non-trainable params: 128\n",
      "_________________________________________________________________\n"
     ]
    },
    {
     "name": "stderr",
     "output_type": "stream",
     "text": [
      "/home/wyw/anaconda3/envs/tf-keras/lib/python3.6/site-packages/ipykernel_launcher.py:6: UserWarning: Update your `Conv2D` call to the Keras 2 API: `Conv2D(data_format=\"channels_last\", kernel_size=(3, 3), filters=64, padding=\"same\")`\n",
      "  \n",
      "/home/wyw/anaconda3/envs/tf-keras/lib/python3.6/site-packages/ipykernel_launcher.py:11: UserWarning: Update your `Conv2D` call to the Keras 2 API: `Conv2D(data_format=\"channels_last\", kernel_size=(3, 3), filters=1, padding=\"same\")`\n",
      "  # This is added back by InteractiveShellApp.init_path()\n"
     ]
    }
   ],
   "source": [
    "nt=2001; nr=467; nph=3\n",
    "x_input = Input( shape=(nt, nr, nph) )##one_piece\n",
    "# conv1 = Convolution2D(\n",
    "#     nb_filter=64, nb_row=3, nb_col=3, border_mode=\"same\", data_format=\"channels_last\")(x_input)\n",
    "\n",
    "conv1 = Conv2D(nb_filter=64, nb_row=3, nb_col=3, border_mode=\"same\", data_format=\"channels_last\")(x_input)\n",
    "conv1 = BatchNormalization(axis=-1, momentum=0.99, epsilon=0.001, center=True, scale=True, \n",
    "                           beta_initializer='zeros', gamma_initializer='ones', moving_mean_initializer='zeros', \n",
    "                           moving_variance_initializer='ones', beta_regularizer=None, gamma_regularizer=None, \n",
    "                           beta_constraint=None, gamma_constraint=None)(conv1)\n",
    "conv2 = Conv2D(nb_filter=1, nb_row=3, nb_col=3, border_mode=\"same\", data_format=\"channels_last\")(conv1)\n",
    "\n",
    "# model = Model(inputs=x_input, outputs=conv2)\n",
    "\n",
    "# conv1 = Conv3D(filters=51, kernel_size=(2,2,2), strides=(1,1,1), \n",
    "#                             padding='same', data_format=\"channels_last\", dilation_rate=(1,1,1),\n",
    "#                            activation=None, use_bias=True, kernel_initializer='glorot_uniform',\n",
    "#                            bias_initializer='zeros', kernel_regularizer=None, bias_regularizer=None,\n",
    "#                            activity_regularizer=None, kernel_constraint=None, bias_constraint=None)(x_input)\n",
    "# conv1 = BatchNormalization(axis=-1, momentum=0.99, epsilon=0.001, center=True, scale=True, \n",
    "#                            beta_initializer='zeros', gamma_initializer='ones', moving_mean_initializer='zeros', \n",
    "#                            moving_variance_initializer='ones', beta_regularizer=None, gamma_regularizer=None, \n",
    "#                            beta_constraint=None, gamma_constraint=None)(conv1)\n",
    "# # conv1 = Conv3D(filters=64, kernel_size=(2,2,2), strides=(1,1,1), \n",
    "# #                             padding='valid', data_format=\"channels_last\", dilation_rate=(1,1,1),\n",
    "# #                            activation=None, use_bias=True, kernel_initializer='glorot_uniform',\n",
    "# #                            bias_initializer='zeros', kernel_regularizer=None, bias_regularizer=None,\n",
    "# #                            activity_regularizer=None, kernel_constraint=None, bias_constraint=None)(x_input)\n",
    "\n",
    "# conv2 = Conv3D(filters=51, kernel_size=(2,2,2), strides=(1,1,1), \n",
    "#                             padding='same', data_format=\"channels_last\", dilation_rate=(1,1,1),\n",
    "#                            activation=None, use_bias=True, kernel_initializer='glorot_uniform',\n",
    "#                            bias_initializer='zeros', kernel_regularizer=None, bias_regularizer=None,\n",
    "#                            activity_regularizer=None, kernel_constraint=None, bias_constraint=None)(conv1)\n",
    "\n",
    "# conv2 = BatchNormalization(axis=-1, momentum=0.99, epsilon=0.001, center=True, scale=True, \n",
    "#                            beta_initializer='zeros', gamma_initializer='ones', moving_mean_initializer='zeros', \n",
    "#                            moving_variance_initializer='ones', beta_regularizer=None, gamma_regularizer=None, \n",
    "#                            beta_constraint=None, gamma_constraint=None)(conv2)\n",
    "\n",
    "# conv3 = Conv3D(filters=51, kernel_size=(2,2,2), strides=(1,1,1), \n",
    "#                             padding='same', data_format=\"channels_last\", dilation_rate=(1,1,1),\n",
    "#                            activation=None, use_bias=True, kernel_initializer='glorot_uniform',\n",
    "#                            bias_initializer='zeros', kernel_regularizer=None, bias_regularizer=None,\n",
    "#                            activity_regularizer=None, kernel_constraint=None, bias_constraint=None)(conv2)\n",
    "# conv3 = BatchNormalization(axis=-1, momentum=0.99, epsilon=0.001, center=True, scale=True, \n",
    "#                            beta_initializer='zeros', gamma_initializer='ones', moving_mean_initializer='zeros', \n",
    "#                            moving_variance_initializer='ones', beta_regularizer=None, gamma_regularizer=None, \n",
    "#                            beta_constraint=None, gamma_constraint=None)(conv3)\n",
    "\n",
    "# convLSTM_1 = keras.layers.ConvLSTM2D(filters=51, kernel_size=(2,2), strides=(1, 1), padding='valid', \n",
    "#                                      data_format='channels_last', dilation_rate=(1, 1), activation='tanh', \n",
    "#                                      recurrent_activation='hard_sigmoid', use_bias=True,\n",
    "#                                      kernel_initializer='glorot_uniform', recurrent_initializer='orthogonal', \n",
    "#                                      bias_initializer='zeros', unit_forget_bias=True, \n",
    "#                                      kernel_regularizer=None, recurrent_regularizer=None, \n",
    "#                                      bias_regularizer=None, activity_regularizer=None, \n",
    "#                                      kernel_constraint=None, recurrent_constraint=None, \n",
    "#                                      bias_constraint=None, return_sequences=True, \n",
    "#                                      go_backwards=False, stateful=False, dropout=0.0, recurrent_dropout=0.0)(conv3)\n",
    "\n",
    "# model = Model(inputs=x_input, outputs=convLSTM_1)\n",
    "model = Model(inputs=x_input, outputs=conv2)\n",
    "model.summary()"
   ]
  },
  {
   "cell_type": "code",
   "execution_count": 4,
   "metadata": {},
   "outputs": [
    {
     "name": "stderr",
     "output_type": "stream",
     "text": [
      "/home/wyw/anaconda3/envs/tf-keras/lib/python3.6/site-packages/ipykernel_launcher.py:4: UserWarning: Update your `Conv2D` call to the Keras 2 API: `Conv2D(data_format=\"channels_last\", kernel_size=(3, 3), filters=64, padding=\"same\")`\n",
      "  after removing the cwd from sys.path.\n",
      "/home/wyw/anaconda3/envs/tf-keras/lib/python3.6/site-packages/ipykernel_launcher.py:10: UserWarning: Update your `Conv2D` call to the Keras 2 API: `Conv2D(data_format=\"channels_last\", kernel_size=(3, 3), filters=128, padding=\"same\")`\n",
      "  # Remove the CWD from sys.path while we load stuff.\n",
      "/home/wyw/anaconda3/envs/tf-keras/lib/python3.6/site-packages/ipykernel_launcher.py:16: UserWarning: Update your `Conv2D` call to the Keras 2 API: `Conv2D(data_format=\"channels_last\", kernel_size=(3, 3), filters=128, padding=\"same\")`\n",
      "  app.launch_new_instance()\n"
     ]
    },
    {
     "name": "stdout",
     "output_type": "stream",
     "text": [
      "_________________________________________________________________\n",
      "Layer (type)                 Output Shape              Param #   \n",
      "=================================================================\n",
      "input_2 (InputLayer)         (None, 2001, 467, 3)      0         \n",
      "_________________________________________________________________\n",
      "conv2d_3 (Conv2D)            (None, 2001, 467, 64)     1792      \n",
      "_________________________________________________________________\n",
      "batch_normalization_2 (Batch (None, 2001, 467, 64)     256       \n",
      "_________________________________________________________________\n",
      "conv2d_4 (Conv2D)            (None, 2001, 467, 128)    73856     \n",
      "_________________________________________________________________\n",
      "batch_normalization_3 (Batch (None, 2001, 467, 128)    512       \n",
      "_________________________________________________________________\n",
      "conv2d_5 (Conv2D)            (None, 2001, 467, 128)    147584    \n",
      "_________________________________________________________________\n",
      "batch_normalization_4 (Batch (None, 2001, 467, 128)    512       \n",
      "_________________________________________________________________\n",
      "conv2d_6 (Conv2D)            (None, 2001, 467, 128)    147584    \n",
      "_________________________________________________________________\n",
      "batch_normalization_5 (Batch (None, 2001, 467, 128)    512       \n",
      "_________________________________________________________________\n",
      "conv2d_7 (Conv2D)            (None, 2001, 467, 1)      1153      \n",
      "=================================================================\n",
      "Total params: 373,761\n",
      "Trainable params: 372,865\n",
      "Non-trainable params: 896\n",
      "_________________________________________________________________\n"
     ]
    },
    {
     "name": "stderr",
     "output_type": "stream",
     "text": [
      "/home/wyw/anaconda3/envs/tf-keras/lib/python3.6/site-packages/ipykernel_launcher.py:22: UserWarning: Update your `Conv2D` call to the Keras 2 API: `Conv2D(data_format=\"channels_last\", kernel_size=(3, 3), filters=128, padding=\"same\")`\n",
      "/home/wyw/anaconda3/envs/tf-keras/lib/python3.6/site-packages/ipykernel_launcher.py:28: UserWarning: Update your `Conv2D` call to the Keras 2 API: `Conv2D(data_format=\"channels_last\", kernel_size=(3, 3), filters=1, padding=\"same\")`\n"
     ]
    }
   ],
   "source": [
    "nt=2001; nr=467; nph=3\n",
    "x_input = Input( shape=( nt, nr, nph) )##one_piece\n",
    "conv1 = Conv2D(\n",
    "    nb_filter=64, nb_row=3, nb_col=3, border_mode=\"same\", data_format=\"channels_last\")(x_input)\n",
    "conv1 = BatchNormalization(axis=-1, momentum=0.99, epsilon=0.001, center=True, scale=True, \n",
    "                           beta_initializer='zeros', gamma_initializer='ones', moving_mean_initializer='zeros', \n",
    "                           moving_variance_initializer='ones', beta_regularizer=None, gamma_regularizer=None, \n",
    "                           beta_constraint=None, gamma_constraint=None)(conv1)\n",
    "conv1_1 = Conv2D(\n",
    "    nb_filter=128, nb_row=3, nb_col=3, border_mode=\"same\", data_format=\"channels_last\")(conv1)\n",
    "conv1_1 = BatchNormalization(axis=-1, momentum=0.99, epsilon=0.001, center=True, scale=True, \n",
    "                           beta_initializer='zeros', gamma_initializer='ones', moving_mean_initializer='zeros', \n",
    "                           moving_variance_initializer='ones', beta_regularizer=None, gamma_regularizer=None, \n",
    "                           beta_constraint=None, gamma_constraint=None)(conv1_1)\n",
    "conv1_2 = Conv2D(\n",
    "    nb_filter=128, nb_row=3, nb_col=3, border_mode=\"same\", data_format=\"channels_last\")(conv1_1)\n",
    "conv1_2 = BatchNormalization(axis=-1, momentum=0.99, epsilon=0.001, center=True, scale=True, \n",
    "                           beta_initializer='zeros', gamma_initializer='ones', moving_mean_initializer='zeros', \n",
    "                           moving_variance_initializer='ones', beta_regularizer=None, gamma_regularizer=None, \n",
    "                           beta_constraint=None, gamma_constraint=None)(conv1_2)\n",
    "conv1_3 = Conv2D(\n",
    "    nb_filter=128, nb_row=3, nb_col=3, border_mode=\"same\", data_format=\"channels_last\")(conv1_2)\n",
    "conv1_3 = BatchNormalization(axis=-1, momentum=0.99, epsilon=0.001, center=True, scale=True, \n",
    "                           beta_initializer='zeros', gamma_initializer='ones', moving_mean_initializer='zeros', \n",
    "                           moving_variance_initializer='ones', beta_regularizer=None, gamma_regularizer=None, \n",
    "                           beta_constraint=None, gamma_constraint=None)(conv1_3)\n",
    "conv2 = Conv2D(\n",
    "    nb_filter=1, nb_row=3, nb_col=3, border_mode=\"same\", data_format=\"channels_last\")(conv1_3)\n",
    "\n",
    "model = Model(inputs=x_input, outputs=conv2)\n",
    "# model = Model(inputs=x_input, outputs=conv2)\n",
    "model.summary()"
   ]
  },
  {
   "cell_type": "code",
   "execution_count": null,
   "metadata": {},
   "outputs": [],
   "source": [
    "nt=2001; nr=467; nph=3\n",
    "x_input = Input( shape=( nt, nr, nph) )##one_piece\n",
    "#     conv1 = Conv2D(\n",
    "#         nb_filter=64, nb_row=3, nb_col=3, padding=\"same\", data_format=\"channels_last\")(x_input)\n",
    "conv1 = Conv2D(filters=64, kernel_size=(3,3), strides=(1, 1), padding='same', data_format='channels_last', \n",
    "               dilation_rate=(1, 1), activation=None, use_bias=True, kernel_initializer='glorot_uniform',\n",
    "               bias_initializer='zeros', kernel_regularizer=None, bias_regularizer=None, \n",
    "               activity_regularizer=None, kernel_constraint=None, bias_constraint=None)(x_input)\n",
    "conv1 = BatchNormalization(axis=-1, momentum=0.99, epsilon=0.001, center=True, scale=True, \n",
    "                           beta_initializer='zeros', gamma_initializer='ones', moving_mean_initializer='zeros', \n",
    "                           moving_variance_initializer='ones', beta_regularizer=None, gamma_regularizer=None, \n",
    "                           beta_constraint=None, gamma_constraint=None)(conv1)\n",
    "#     conv1_1 = Conv2D(\n",
    "#         nb_filter=128, nb_row=3, nb_col=3, padding=\"same\", data_format=\"channels_last\")(conv1)\n",
    "conv1_1 = Conv2D(filters=128, kernel_size=(3,3), strides=(1, 1), padding='same', data_format='channels_last', \n",
    "               dilation_rate=(1, 1), activation=None, use_bias=True, kernel_initializer='glorot_uniform',\n",
    "               bias_initializer='zeros', kernel_regularizer=None, bias_regularizer=None, \n",
    "               activity_regularizer=None, kernel_constraint=None, bias_constraint=None)(conv1)\n",
    "conv1_1 = BatchNormalization(axis=-1, momentum=0.99, epsilon=0.001, center=True, scale=True, \n",
    "                           beta_initializer='zeros', gamma_initializer='ones', moving_mean_initializer='zeros', \n",
    "                           moving_variance_initializer='ones', beta_regularizer=None, gamma_regularizer=None, \n",
    "                           beta_constraint=None, gamma_constraint=None)(conv1_1)\n",
    "\n",
    "conv1_2 = Conv2D(filters=128, kernel_size=(3,3), strides=(1, 1), padding='same', data_format='channels_last', \n",
    "               dilation_rate=(1, 1), activation=None, use_bias=True, kernel_initializer='glorot_uniform',\n",
    "               bias_initializer='zeros', kernel_regularizer=None, bias_regularizer=None, \n",
    "               activity_regularizer=None, kernel_constraint=None, bias_constraint=None)(conv1_1)\n",
    "#     conv1_2 = Conv2D(\n",
    "#         nb_filter=128, nb_row=3, nb_col=3, padding=\"same\", data_format=\"channels_last\")(conv1_1)\n",
    "conv1_2 = BatchNormalization(axis=-1, momentum=0.99, epsilon=0.001, center=True, scale=True, \n",
    "                           beta_initializer='zeros', gamma_initializer='ones', moving_mean_initializer='zeros', \n",
    "                           moving_variance_initializer='ones', beta_regularizer=None, gamma_regularizer=None, \n",
    "                           beta_constraint=None, gamma_constraint=None)(conv1_2)\n",
    "#     conv1_3 = Conv2D(\n",
    "#         nb_filter=128, nb_row=3, nb_col=3, padding=\"same\", data_format=\"channels_last\")(conv1_2)\n",
    "conv1_3 = Conv2D(filters=128, kernel_size=(3,3), strides=(1, 1), padding='same', data_format='channels_last', \n",
    "               dilation_rate=(1, 1), activation=None, use_bias=True, kernel_initializer='glorot_uniform',\n",
    "               bias_initializer='zeros', kernel_regularizer=None, bias_regularizer=None, \n",
    "               activity_regularizer=None, kernel_constraint=None, bias_constraint=None)(conv1_2)   \n",
    "conv1_3 = BatchNormalization(axis=-1, momentum=0.99, epsilon=0.001, center=True, scale=True, \n",
    "                           beta_initializer='zeros', gamma_initializer='ones', moving_mean_initializer='zeros', \n",
    "                           moving_variance_initializer='ones', beta_regularizer=None, gamma_regularizer=None, \n",
    "                           beta_constraint=None, gamma_constraint=None)(conv1_3)\n",
    "\n",
    "conv2 = Conv2D(filters=1, kernel_size=(3,3), strides=(1, 1), padding='same', data_format='channels_last', \n",
    "               dilation_rate=(1, 1), activation=None, use_bias=True, kernel_initializer='glorot_uniform',\n",
    "               bias_initializer='zeros', kernel_regularizer=None, bias_regularizer=None, \n",
    "               activity_regularizer=None, kernel_constraint=None, bias_constraint=None)(conv1_3)\n",
    "\n",
    "\n",
    "#     conv2 = Conv2D(\n",
    "#         nb_filter=1, nb_row=3, nb_col=3, padding=\"same\", data_format=\"channels_last\")(conv1_3)\n",
    "\n",
    "model = Model(inputs=x_input, outputs=conv2)\n",
    "model.summary()\n"
   ]
  }
 ],
 "metadata": {
  "hide_input": false,
  "kernelspec": {
   "display_name": "Python (tf-keras)",
   "language": "python",
   "name": "tf-keras"
  },
  "language_info": {
   "codemirror_mode": {
    "name": "ipython",
    "version": 3
   },
   "file_extension": ".py",
   "mimetype": "text/x-python",
   "name": "python",
   "nbconvert_exporter": "python",
   "pygments_lexer": "ipython3",
   "version": "3.6.8"
  },
  "nbTranslate": {
   "displayLangs": [
    "*"
   ],
   "hotkey": "alt-t",
   "langInMainMenu": true,
   "sourceLang": "en",
   "targetLang": "fr",
   "useGoogleTranslate": true
  },
  "toc": {
   "base_numbering": 1,
   "nav_menu": {},
   "number_sections": true,
   "sideBar": true,
   "skip_h1_title": false,
   "title_cell": "Table of Contents",
   "title_sidebar": "Contents",
   "toc_cell": false,
   "toc_position": {},
   "toc_section_display": true,
   "toc_window_display": false
  },
  "varInspector": {
   "cols": {
    "lenName": 16,
    "lenType": 16,
    "lenVar": 40
   },
   "kernels_config": {
    "python": {
     "delete_cmd_postfix": "",
     "delete_cmd_prefix": "del ",
     "library": "var_list.py",
     "varRefreshCmd": "print(var_dic_list())"
    },
    "r": {
     "delete_cmd_postfix": ") ",
     "delete_cmd_prefix": "rm(",
     "library": "var_list.r",
     "varRefreshCmd": "cat(var_dic_list()) "
    }
   },
   "types_to_exclude": [
    "module",
    "function",
    "builtin_function_or_method",
    "instance",
    "_Feature"
   ],
   "window_display": false
  }
 },
 "nbformat": 4,
 "nbformat_minor": 2
}
